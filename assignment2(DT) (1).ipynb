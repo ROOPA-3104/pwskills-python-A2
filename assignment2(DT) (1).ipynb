{
 "cells": [
  {
   "cell_type": "markdown",
   "id": "b9731911-6275-4c6a-8de7-46906e56297c",
   "metadata": {},
   "source": [
    "\n",
    "\n",
    "Q1)Discuss String slicing and provide examples"
   ]
  },
  {
   "cell_type": "markdown",
   "id": "64aee01e-2a7c-4399-8055-88ae6e910747",
   "metadata": {},
   "source": [
    "String is a sequence of character to represent and manipuralte textual data, characters are represented using numerical values, each character is assigned a unique\n",
    "string splicing: is a powrefull feature in python that allows you to extract a substring from a string. It involves specifying the start and end positions(indices ) to creat a slice of the original string. This feature is highly useful for tasks such as extracting substrings, reversing strings, or manupulating specific sections"
   ]
  },
  {
   "cell_type": "markdown",
   "id": "5d560478-0127-4801-afdb-56d4538a9e2c",
   "metadata": {},
   "source": [
    "Basic syntax\n",
    "The basic syntax for string slicing is \n",
    "string[start:stop:step]\n",
    "start: the starting index of the slice(inclusive). if omitted, it defaults to the begining of the string\n",
    "stop: the ending index of the slice(exclusive). If omitted,it defaults to the end of the string\n",
    "step:the step size or interval between characters. If omitted,it defaults to 1\n"
   ]
  },
  {
   "cell_type": "markdown",
   "id": "868ec113-1363-4ee0-8870-6615a43ea143",
   "metadata": {},
   "source": [
    "Exaples\n",
    "1. Extracting a substring:"
   ]
  },
  {
   "cell_type": "code",
   "execution_count": 72,
   "id": "93dd79fe-929e-4986-9836-f7b2e726e211",
   "metadata": {},
   "outputs": [
    {
     "name": "stdout",
     "output_type": "stream",
     "text": [
      "World\n"
     ]
    }
   ],
   "source": [
    "text=\"Hello, World\"\n",
    "substring=text[7:12]\n",
    "print(substring)"
   ]
  },
  {
   "cell_type": "markdown",
   "id": "0d8c8f71-4e62-4265-814f-1fc116c81f90",
   "metadata": {},
   "source": [
    "2.Slicing with Negative Index:"
   ]
  },
  {
   "cell_type": "code",
   "execution_count": 81,
   "id": "2e8c1554-535d-4c87-bb19-eab131321ef9",
   "metadata": {},
   "outputs": [
    {
     "name": "stdout",
     "output_type": "stream",
     "text": [
      " Worl\n"
     ]
    }
   ],
   "source": [
    "text=\"Hello, World\"\n",
    "substring=text[-6:-1]\n",
    "print(substring)"
   ]
  },
  {
   "cell_type": "code",
   "execution_count": 85,
   "id": "255ed7a5-0a0c-45e9-9ebc-24972ab63264",
   "metadata": {},
   "outputs": [
    {
     "name": "stdout",
     "output_type": "stream",
     "text": [
      ", World\n",
      "Hello\n"
     ]
    }
   ],
   "source": [
    "#ommitting start or stop:\n",
    "start_at_five=text[5:]\n",
    "up_to_five=text[:5]\n",
    "print(start_at_five)\n",
    "print(up_to_five)\n",
    "                "
   ]
  },
  {
   "cell_type": "markdown",
   "id": "482ef318-99ac-481e-9b42-28c1c14eb813",
   "metadata": {},
   "source": [
    "3.Reversing string: reverses the string by selecting every character in reverse order, The slice[::-1] reverses the string by selecting every character in reverse order"
   ]
  },
  {
   "cell_type": "code",
   "execution_count": 88,
   "id": "f2bfbb55-24a8-4bbf-87e4-09e926596111",
   "metadata": {},
   "outputs": [
    {
     "name": "stdout",
     "output_type": "stream",
     "text": [
      "dlroW ,olleH\n"
     ]
    }
   ],
   "source": [
    "reversed_text=text[::-1]\n",
    "print(reversed_text)"
   ]
  },
  {
   "cell_type": "code",
   "execution_count": 3,
   "id": "253d7aea-60ea-40f8-abff-74bf1690a432",
   "metadata": {},
   "outputs": [
    {
     "data": {
      "text/plain": [
       "True"
      ]
     },
     "execution_count": 3,
     "metadata": {},
     "output_type": "execute_result"
    }
   ],
   "source": [
    "#string searching \n",
    "sentence= \"I am a student at pwskills\"\n",
    "\"am\" in sentence"
   ]
  },
  {
   "cell_type": "code",
   "execution_count": 4,
   "id": "7ca03b51-6e11-4db2-a918-3cff21f0a9bb",
   "metadata": {},
   "outputs": [
    {
     "name": "stdout",
     "output_type": "stream",
     "text": [
      "The search word is present\n"
     ]
    }
   ],
   "source": [
    "sentence =\" I am a student at pwskills\"\n",
    "search_word=\"am\"\n",
    "if search_word in sentence:\n",
    "    print(\"The search word is present\")\n",
    "else:\n",
    "    print(\"Not present\")"
   ]
  },
  {
   "cell_type": "code",
   "execution_count": 5,
   "id": "4cbb0ff5-30b0-4b7e-b15e-d61300e89826",
   "metadata": {},
   "outputs": [
    {
     "name": "stdout",
     "output_type": "stream",
     "text": [
      "invalid email\n"
     ]
    }
   ],
   "source": [
    "email=\"ajay 123\"\n",
    "if \"@\" in email:\n",
    "    print(\"valid email\")\n",
    "else:\n",
    "    print(\"invalid email\")\n"
   ]
  },
  {
   "cell_type": "code",
   "execution_count": 8,
   "id": "5aa06b56-fad4-475a-97f3-3eac7d33ad5a",
   "metadata": {},
   "outputs": [
    {
     "name": "stdout",
     "output_type": "stream",
     "text": [
      "its a pdf file\n"
     ]
    }
   ],
   "source": [
    "document=\"some_file.pdf\"\n",
    "if \".pdf\" in document:\n",
    "    print(\"its a pdf file\")\n",
    "else:\n",
    "    print(\"not a pdf file\")"
   ]
  },
  {
   "cell_type": "code",
   "execution_count": 9,
   "id": "c544c5c7-93e1-4c5d-aa3a-3f911816aebb",
   "metadata": {},
   "outputs": [
    {
     "data": {
      "text/plain": [
       "True"
      ]
     },
     "execution_count": 9,
     "metadata": {},
     "output_type": "execute_result"
    }
   ],
   "source": [
    "#string comparision\n",
    "str1=\"hello\"\n",
    "str2=\"hello\"\n",
    "str1==str2"
   ]
  },
  {
   "cell_type": "code",
   "execution_count": 10,
   "id": "f0a66a2a-fd88-4bd9-b2fe-f0d202c9f1b9",
   "metadata": {},
   "outputs": [
    {
     "data": {
      "text/plain": [
       "False"
      ]
     },
     "execution_count": 10,
     "metadata": {},
     "output_type": "execute_result"
    }
   ],
   "source": [
    "str1=\"Hello\" # Python is case sensitive\n",
    "str2=\"hello\"\n",
    "str1==str2"
   ]
  },
  {
   "cell_type": "code",
   "execution_count": 11,
   "id": "7d3fc53b-b5ed-4d53-9608-2452aad05f10",
   "metadata": {},
   "outputs": [
    {
     "data": {
      "text/plain": [
       "True"
      ]
     },
     "execution_count": 11,
     "metadata": {},
     "output_type": "execute_result"
    }
   ],
   "source": [
    "str1.lower()==str2.lower()"
   ]
  },
  {
   "cell_type": "code",
   "execution_count": 12,
   "id": "499854ca-8fc8-405b-9b4b-99fe3a4efc8f",
   "metadata": {},
   "outputs": [
    {
     "name": "stdout",
     "output_type": "stream",
     "text": [
      "username is available\n"
     ]
    }
   ],
   "source": [
    "reg_username = [\"pw\", \"PW\",\"Pw \"]\n",
    "new_user =\"PW1\"\n",
    "if new_user in reg_username:\n",
    "    print(\"already in use\")\n",
    "else:\n",
    "    print(\"username is available\")"
   ]
  },
  {
   "cell_type": "code",
   "execution_count": 13,
   "id": "fef600b7-3fb2-4747-83c6-3726bf7622fb",
   "metadata": {},
   "outputs": [
    {
     "name": "stdin",
     "output_type": "stream",
     "text": [
      "scan the product code P124\n"
     ]
    },
    {
     "name": "stdout",
     "output_type": "stream",
     "text": [
      "Talk to receptionist\n"
     ]
    }
   ],
   "source": [
    "product_code =\"123\"\n",
    "scanned_code=input(\"scan the product code\")\n",
    "if product_code==scanned_code:\n",
    "    print(\"The price is 100\")\n",
    "else:\n",
    "    print(\"Talk to receptionist\")"
   ]
  },
  {
   "cell_type": "code",
   "execution_count": 15,
   "id": "67287c1a-7ea5-4412-8661-476660782873",
   "metadata": {},
   "outputs": [
    {
     "data": {
      "text/plain": [
       "['Ajay', 'Bijay', 'Sanjay']"
      ]
     },
     "execution_count": 15,
     "metadata": {},
     "output_type": "execute_result"
    }
   ],
   "source": [
    "#string ordering\n",
    "name=[\"Ajay\",\"Sanjay\", \"Bijay\"]\n",
    "sorted(name)"
   ]
  },
  {
   "cell_type": "code",
   "execution_count": 17,
   "id": "35a846c7-52af-4985-a11b-fe88cfde7a89",
   "metadata": {},
   "outputs": [
    {
     "data": {
      "text/plain": [
       "['Aalishan', 'KKKH', 'Magic', 'Singam']"
      ]
     },
     "execution_count": 17,
     "metadata": {},
     "output_type": "execute_result"
    }
   ],
   "source": [
    "playlist=[\"KKKH\", \"Magic\",\"Singam\", \"Aalishan\"]\n",
    "sorted(playlist)"
   ]
  },
  {
   "cell_type": "code",
   "execution_count": 18,
   "id": "13738a6b-8d21-46f9-bd69-ce080bee5249",
   "metadata": {},
   "outputs": [
    {
     "data": {
      "text/plain": [
       "'Ajay, data science, teacher'"
      ]
     },
     "execution_count": 18,
     "metadata": {},
     "output_type": "execute_result"
    }
   ],
   "source": [
    "#string splitting\n",
    "data=\"Ajay, data science, teacher\"\n",
    "data"
   ]
  },
  {
   "cell_type": "code",
   "execution_count": 21,
   "id": "f36560f5-3ac2-42c9-865b-bd8557a902db",
   "metadata": {},
   "outputs": [
    {
     "data": {
      "text/plain": [
       "['Ajay', ' data science', ' teacher']"
      ]
     },
     "execution_count": 21,
     "metadata": {},
     "output_type": "execute_result"
    }
   ],
   "source": [
    "teacher_info=data.split(\",\")\n",
    "teacher_info\n",
    "\n"
   ]
  },
  {
   "cell_type": "markdown",
   "id": "4e6a59e8-74b6-43fa-a9af-9f35af56f94f",
   "metadata": {},
   "source": [
    "escapa sequences .. special combination of character s used within a string, insert new line in character"
   ]
  },
  {
   "cell_type": "code",
   "execution_count": 22,
   "id": "a405d878-4890-43f6-898d-39b2f3b2849d",
   "metadata": {},
   "outputs": [],
   "source": [
    "address=\"\"\"123. sanmukha villa, \n",
    "marathali,\n",
    "banglore\"\"\""
   ]
  },
  {
   "cell_type": "code",
   "execution_count": 23,
   "id": "050d063a-c00d-45c9-9873-77c50f1d9aad",
   "metadata": {},
   "outputs": [
    {
     "data": {
      "text/plain": [
       "'123. sanmukha villa, \\nmarathali,\\nbanglore'"
      ]
     },
     "execution_count": 23,
     "metadata": {},
     "output_type": "execute_result"
    }
   ],
   "source": [
    "address"
   ]
  },
  {
   "cell_type": "code",
   "execution_count": 24,
   "id": "104f9009-ef4c-4162-a5e6-9aa2914b2dd9",
   "metadata": {},
   "outputs": [
    {
     "name": "stdout",
     "output_type": "stream",
     "text": [
      "123. sanmukha villa, \n",
      "marathali,\n",
      "banglore\n"
     ]
    }
   ],
   "source": [
    "print(address)"
   ]
  },
  {
   "cell_type": "code",
   "execution_count": 32,
   "id": "6f50dc7a-c34e-4bf2-91c3-31afb789de2f",
   "metadata": {},
   "outputs": [],
   "source": [
    "#/t escape character\n",
    "table=\"Name\\tAge\\tGrade\\nAnajy\\t21\\tA\\nBijay\\t22\\tA+\""
   ]
  },
  {
   "cell_type": "code",
   "execution_count": 33,
   "id": "4a54599f-32fe-4384-b582-35c6bc8a1a65",
   "metadata": {},
   "outputs": [
    {
     "name": "stdout",
     "output_type": "stream",
     "text": [
      "Name\tAge\tGrade\n",
      "Anajy\t21\tA\n",
      "Bijay\t22\tA+\n"
     ]
    }
   ],
   "source": [
    "print(table)"
   ]
  },
  {
   "cell_type": "code",
   "execution_count": 34,
   "id": "d983d68d-6af6-4aba-b542-ab38058d8ac9",
   "metadata": {},
   "outputs": [],
   "source": [
    "#\\'single quote escape\n",
    "str1=\"i can\\'t believe its friday\""
   ]
  },
  {
   "cell_type": "code",
   "execution_count": 35,
   "id": "963a0574-635a-4b0f-b5d9-eaefb6dc2737",
   "metadata": {},
   "outputs": [
    {
     "name": "stdout",
     "output_type": "stream",
     "text": [
      "i can't believe its friday\n"
     ]
    }
   ],
   "source": [
    "print(str1)"
   ]
  },
  {
   "cell_type": "code",
   "execution_count": null,
   "id": "23632a5c-50e8-4b7b-87c3-0b8f762293e1",
   "metadata": {},
   "outputs": [],
   "source": [
    "#carraige return>> \\r>>moves the cursore to the beginning of line\n"
   ]
  },
  {
   "cell_type": "code",
   "execution_count": 36,
   "id": "06ec9603-5c8f-4f69-8974-1c88999cb28b",
   "metadata": {},
   "outputs": [
    {
     "name": "stdout",
     "output_type": "stream",
     "text": [
      " Ajay, I am goint to delhi\n"
     ]
    }
   ],
   "source": [
    "print(\"Hello, I am \\r Ajay, I am goint to delhi\")"
   ]
  },
  {
   "cell_type": "code",
   "execution_count": null,
   "id": "75d30638-605b-47c1-bc21-3cbac0289857",
   "metadata": {},
   "outputs": [],
   "source": [
    "#string formatting>> string with placeholder for variables\n",
    "print(\"my name is Ajay\")\n"
   ]
  },
  {
   "cell_type": "code",
   "execution_count": 37,
   "id": "bff42622-457c-48cd-9cdc-47f6e9b9f63e",
   "metadata": {},
   "outputs": [],
   "source": [
    "name=\"Ajay\"\n",
    "greetings=f\"hello {name}, how are you?\""
   ]
  },
  {
   "cell_type": "code",
   "execution_count": 39,
   "id": "34711d6a-3af6-4f56-95b1-c03392465499",
   "metadata": {},
   "outputs": [
    {
     "name": "stdout",
     "output_type": "stream",
     "text": [
      "helloAjay, how are you?\n"
     ]
    }
   ],
   "source": [
    "print(greetings)"
   ]
  },
  {
   "cell_type": "code",
   "execution_count": 44,
   "id": "3924360e-2add-4f7c-a0eb-2ee0cce9d79e",
   "metadata": {},
   "outputs": [
    {
     "data": {
      "text/plain": [
       "'my course is pw data + frontend and its duration is 4 years.'"
      ]
     },
     "execution_count": 44,
     "metadata": {},
     "output_type": "execute_result"
    }
   ],
   "source": [
    "course=\"pw data + frontend\"\n",
    "duration=4\n",
    "f\"my course is {course} and its duration is {duration} years.\""
   ]
  },
  {
   "cell_type": "code",
   "execution_count": 47,
   "id": "9714e232-1843-4305-a439-9d5200fa8b95",
   "metadata": {},
   "outputs": [
    {
     "name": "stdout",
     "output_type": "stream",
     "text": [
      " Hello user,Roopa, Today is 2024-08-09 post.\n"
     ]
    }
   ],
   "source": [
    "user_name=\"Roopa\"\n",
    "post_date =\"2024-08-09\"\n",
    "print(f\" Hello user,{user_name}, Today is {post_date} post.\")"
   ]
  },
  {
   "cell_type": "code",
   "execution_count": 50,
   "id": "e7c2f6a2-e0d1-4ced-b2fa-9c48e33513d1",
   "metadata": {},
   "outputs": [
    {
     "data": {
      "text/plain": [
       "'30 is equal to 86.0F'"
      ]
     },
     "execution_count": 50,
     "metadata": {},
     "output_type": "execute_result"
    }
   ],
   "source": [
    "celsius=30\n",
    "f\"{celsius} is equal to {(celsius*9/5)+32}F\""
   ]
  },
  {
   "cell_type": "code",
   "execution_count": 60,
   "id": "1d0cd919-cbbf-4e3b-bf0d-8576baefda8a",
   "metadata": {},
   "outputs": [
    {
     "data": {
      "text/plain": [
       "True"
      ]
     },
     "execution_count": 60,
     "metadata": {},
     "output_type": "execute_result"
    }
   ],
   "source": [
    "str1 = \"pwskills\"\n",
    "str1.startswith(\"pws\")"
   ]
  },
  {
   "cell_type": "code",
   "execution_count": 61,
   "id": "a9cc9ead-55c8-4448-815c-19fc0f1b5340",
   "metadata": {},
   "outputs": [
    {
     "data": {
      "text/plain": [
       "True"
      ]
     },
     "execution_count": 61,
     "metadata": {},
     "output_type": "execute_result"
    }
   ],
   "source": [
    "str1.endswith(\"lls\")"
   ]
  },
  {
   "cell_type": "code",
   "execution_count": 63,
   "id": "cbb72e52-6192-470e-badd-71e0c36b2034",
   "metadata": {},
   "outputs": [
    {
     "data": {
      "text/plain": [
       "False"
      ]
     },
     "execution_count": 63,
     "metadata": {},
     "output_type": "execute_result"
    }
   ],
   "source": [
    "str1.endswith(\"lly\")"
   ]
  },
  {
   "cell_type": "code",
   "execution_count": 64,
   "id": "00894129-49f6-49e3-8f2c-23c3db8a1bf3",
   "metadata": {},
   "outputs": [
    {
     "data": {
      "text/plain": [
       "True"
      ]
     },
     "execution_count": 64,
     "metadata": {},
     "output_type": "execute_result"
    }
   ],
   "source": [
    "a=\"123abc\"\n",
    "a.isalnum()"
   ]
  },
  {
   "cell_type": "code",
   "execution_count": 66,
   "id": "fbda999b-0848-48a8-a1a3-5039de30377c",
   "metadata": {},
   "outputs": [
    {
     "data": {
      "text/plain": [
       "True"
      ]
     },
     "execution_count": 66,
     "metadata": {},
     "output_type": "execute_result"
    }
   ],
   "source": [
    "a=\"123\"\n",
    "a.isalnum()"
   ]
  },
  {
   "cell_type": "code",
   "execution_count": 67,
   "id": "02e008fd",
   "metadata": {},
   "outputs": [],
   "source": [
    "s=\"pwskills\"\n",
    "len(s)"
   ]
  },
  {
   "cell_type": "code",
   "execution_count": 69,
   "id": "1bae230f-d6cc-4cef-915b-6ca7258f98ed",
   "metadata": {},
   "outputs": [
    {
     "name": "stdout",
     "output_type": "stream",
     "text": [
      "p\n",
      "w\n",
      "s\n",
      "k\n",
      "i\n",
      "l\n",
      "l\n",
      "s\n",
      "0\n"
     ]
    }
   ],
   "source": [
    "count=0\n",
    "for i in s:\n",
    "    print(i)\n",
    "    countc= count+1\n",
    "print(count)"
   ]
  },
  {
   "cell_type": "markdown",
   "id": "c4831b45-2723-41a8-8eda-636aad88aa9b",
   "metadata": {},
   "source": [
    "2) Explain key features of lists in python "
   ]
  },
  {
   "cell_type": "markdown",
   "id": "11a97e67-30ee-4c6f-8a61-b22ad7318d46",
   "metadata": {},
   "source": [
    "lists in pythoon are versatile and widely used data structure. Here are some key fetures of list in python"
   ]
  },
  {
   "cell_type": "markdown",
   "id": "2093cb38-0b5d-4974-aeb1-02bdec786909",
   "metadata": {},
   "source": [
    "1.Ordered collection:\n",
    "python lists are ordered,meaning the items have a defined order, and that order will not chhange unless explicity modified. you can access elements by their index, with the first element at index 0"
   ]
  },
  {
   "cell_type": "code",
   "execution_count": 1,
   "id": "db70daf4-d132-408b-8186-901b4b65aa6b",
   "metadata": {},
   "outputs": [
    {
     "name": "stdout",
     "output_type": "stream",
     "text": [
      "10\n"
     ]
    }
   ],
   "source": [
    "my_list=[10,20,30, 40]\n",
    "print(my_list[0])"
   ]
  },
  {
   "cell_type": "code",
   "execution_count": 2,
   "id": "530fb92c-d647-4086-9907-4e8a9ba0b5c0",
   "metadata": {},
   "outputs": [
    {
     "name": "stdout",
     "output_type": "stream",
     "text": [
      "30\n"
     ]
    }
   ],
   "source": [
    "print(my_list[2])"
   ]
  },
  {
   "cell_type": "markdown",
   "id": "5f9c587b-f9cd-46a8-af99-29ac705f8c0a",
   "metadata": {},
   "source": [
    "2.Mutable: \n",
    "lists in python are mutable,meaning you can change their content after they have been created. You can modify individual elements, append new items, remove items, or change entire list.\n"
   ]
  },
  {
   "cell_type": "code",
   "execution_count": 7,
   "id": "dad487c5-fb5b-4ac2-be16-efb23b366ab2",
   "metadata": {},
   "outputs": [
    {
     "name": "stdout",
     "output_type": "stream",
     "text": [
      "[1, 20, 3]\n"
     ]
    }
   ],
   "source": [
    "my_list=[1,2,3]\n",
    "my_list[1]=20#modify element at index 1\n",
    "print(my_list)\n"
   ]
  },
  {
   "cell_type": "code",
   "execution_count": 11,
   "id": "8694104b-9e46-46f8-9f9d-f17cd5758048",
   "metadata": {},
   "outputs": [
    {
     "data": {
      "text/plain": [
       "[1, 20, 3, 4, 4]"
      ]
     },
     "execution_count": 11,
     "metadata": {},
     "output_type": "execute_result"
    }
   ],
   "source": [
    "my_list.append(4)#adding new element to the list\n",
    "my_list"
   ]
  },
  {
   "cell_type": "markdown",
   "id": "a185f492-d1c4-42e8-9366-c62a0459b6d7",
   "metadata": {},
   "source": [
    "3.Dynamic size:\n",
    "python  lists can grow and shrink dynamically.YOu dont need to specify the size of a lsit when you create it, and you can add or remove elements as needed\n",
    "\n",
    "    "
   ]
  },
  {
   "cell_type": "code",
   "execution_count": 12,
   "id": "3cdb1b2d-d96e-49d4-9700-7af64033f7e4",
   "metadata": {},
   "outputs": [
    {
     "name": "stdout",
     "output_type": "stream",
     "text": [
      "[1, 3, 4]\n"
     ]
    }
   ],
   "source": [
    "my_list=[1,2,3]\n",
    "my_list.append(4)#adding element \n",
    "my_list.remove(2) # remove element\n",
    "print(my_list)"
   ]
  },
  {
   "cell_type": "markdown",
   "id": "fa7c7e0e-8f85-4e08-91f0-6588b70963f5",
   "metadata": {},
   "source": [
    "4. Heterogenous Elements: python lists can contain elements of different data types. This means you  store integers, strings, floats, and even other lists within a single list\n"
   ]
  },
  {
   "cell_type": "code",
   "execution_count": 15,
   "id": "edb5b8be-0b1e-480c-9b0e-d249ea4f7a80",
   "metadata": {},
   "outputs": [
    {
     "name": "stdout",
     "output_type": "stream",
     "text": [
      "[1, 'hello', 3.14, 'True', [5.6]]\n"
     ]
    }
   ],
   "source": [
    "my_list=[1, \"hello\", 3.14,\"True\", [5.6]]\n",
    "print(my_list)"
   ]
  },
  {
   "cell_type": "markdown",
   "id": "530c89bc-33c3-4c56-9ca7-11b85d0f12e3",
   "metadata": {},
   "source": [
    "list_comprehensions:\n",
    "list comprehension provide a concise way to create lists. it allows for genereation of lists using a single line of code, often used for mapping or filtering operations."
   ]
  },
  {
   "cell_type": "code",
   "execution_count": 16,
   "id": "5471f020-3a96-4c58-9ad2-b2786db10e45",
   "metadata": {},
   "outputs": [
    {
     "name": "stdout",
     "output_type": "stream",
     "text": [
      "[0, 1, 4, 9, 16]\n"
     ]
    }
   ],
   "source": [
    "squares=[x**2 for x in range(5)]\n",
    "print(squares)"
   ]
  },
  {
   "cell_type": "markdown",
   "id": "e0506d07-2d18-488e-aa92-4abee3c2fa21",
   "metadata": {},
   "source": [
    "6. slicing:\n",
    "    python  lists support slicig allowing you to access a sub_list or a portio of the list by specifying a range of indices.. The syntax for string slicing is list[start:stop:step]"
   ]
  },
  {
   "cell_type": "code",
   "execution_count": 17,
   "id": "d5100b3b-9b9e-4d20-8aa0-74490fb7fb77",
   "metadata": {},
   "outputs": [
    {
     "name": "stdout",
     "output_type": "stream",
     "text": [
      "[1, 2, 3]\n",
      "[0, 1, 2]\n",
      "[0, 2, 4]\n"
     ]
    }
   ],
   "source": [
    "my_list=[0,1,2,3,4,5]\n",
    "print(my_list[1:4])\n",
    "print(my_list[:3])\n",
    "print(my_list[::2])"
   ]
  },
  {
   "cell_type": "markdown",
   "id": "76605366-f6d1-4b85-a718-5e9c7a48b89c",
   "metadata": {},
   "source": [
    "7.Built in funcitons and methods: Python lists come with various built in functions and metods for operaton such as adding, removing, and finding elements, as well as sorting and reversing the list.\n"
   ]
  },
  {
   "cell_type": "code",
   "execution_count": 19,
   "id": "b2c1667d-0ab2-4732-843c-4c852e3ef0b4",
   "metadata": {},
   "outputs": [
    {
     "name": "stdout",
     "output_type": "stream",
     "text": [
      "[1, 2, 3, 4]\n"
     ]
    }
   ],
   "source": [
    "my_list=[3,1,4,2]\n",
    "my_list.sort()#sort the list in place\n",
    "print(my_list) "
   ]
  },
  {
   "cell_type": "code",
   "execution_count": 25,
   "id": "415bd9d7-ce94-4652-82ed-94484af9c155",
   "metadata": {},
   "outputs": [
    {
     "name": "stdout",
     "output_type": "stream",
     "text": [
      "[4, 3, 2, 1]\n"
     ]
    }
   ],
   "source": [
    "my_list.reverse()\n",
    "print(my_list)"
   ]
  },
  {
   "cell_type": "code",
   "execution_count": 27,
   "id": "d7ce3891-318e-416d-8bde-bb2a3d22e91d",
   "metadata": {},
   "outputs": [
    {
     "name": "stdout",
     "output_type": "stream",
     "text": [
      "4\n"
     ]
    }
   ],
   "source": [
    "print(len(my_list))"
   ]
  },
  {
   "cell_type": "markdown",
   "id": "64e7197b-660e-4cb0-9038-234e8c91a5a6",
   "metadata": {},
   "source": [
    "8. Nested lists:\n",
    "lists can be nested within other lists, allowing the creation of complex data strctures like matrices or trees"
   ]
  },
  {
   "cell_type": "code",
   "execution_count": 31,
   "id": "51d25781-3bd7-4d9f-8387-6bcdde5d71f7",
   "metadata": {},
   "outputs": [
    {
     "name": "stdout",
     "output_type": "stream",
     "text": [
      "6\n"
     ]
    }
   ],
   "source": [
    "nested_list=[[1,2,3], [4,5,6],[7,8,9]]\n",
    "print(nested_list[1][2]) #output :6(accessing the element in the second row, third column\n"
   ]
  },
  {
   "cell_type": "code",
   "execution_count": null,
   "id": "0fc2cac0-fc6a-476c-867d-70f592bc2ec4",
   "metadata": {},
   "outputs": [],
   "source": [
    "9. Iteration:\n",
    "    you can easily iterate over the elemtns of a list using, making it straight forward to perofrm operations on each elemnts"
   ]
  },
  {
   "cell_type": "code",
   "execution_count": 32,
   "id": "6d261baf-dbf8-45d4-8efd-ff688216eed8",
   "metadata": {},
   "outputs": [
    {
     "name": "stdout",
     "output_type": "stream",
     "text": [
      "10\n",
      "20\n",
      "30\n"
     ]
    }
   ],
   "source": [
    "my_list=[10,20,30]\n",
    "for num in my_list:\n",
    "    print(num)"
   ]
  },
  {
   "cell_type": "markdown",
   "id": "5f709c1c-fb6a-4ee4-9333-a5aafb5cdc40",
   "metadata": {},
   "source": [
    "Shallow copy & deep copy: python provides mechanisms for copying lists. A shallow copy creates a new list but doesnot create copies of objects within the original list, whereas a deep copy creates a new list and recursively copies all objects within the original list"
   ]
  },
  {
   "cell_type": "code",
   "execution_count": 34,
   "id": "b2ba01d5-eeba-43bc-8849-a2db0ca79d85",
   "metadata": {},
   "outputs": [],
   "source": [
    "#shallow copy:\n",
    "#value will change with change in other list\n",
    "Grocery_list=['milk', 'orange', 1,2,3,' True']"
   ]
  },
  {
   "cell_type": "code",
   "execution_count": 36,
   "id": "27151ee1-fa48-4bcd-85d4-593513997439",
   "metadata": {},
   "outputs": [],
   "source": [
    "a=Grocery_list"
   ]
  },
  {
   "cell_type": "code",
   "execution_count": 46,
   "id": "40c5f6cb-2b99-49da-9695-11e364864d4d",
   "metadata": {},
   "outputs": [],
   "source": [
    "a[0]=\"potato\""
   ]
  },
  {
   "cell_type": "code",
   "execution_count": 49,
   "id": "03a9de77-beb7-4392-bdcd-e3a2ab78f37a",
   "metadata": {},
   "outputs": [
    {
     "data": {
      "text/plain": [
       "['potato', 'potato', 1, 2, 3, ' True']"
      ]
     },
     "execution_count": 49,
     "metadata": {},
     "output_type": "execute_result"
    }
   ],
   "source": [
    "a"
   ]
  },
  {
   "cell_type": "code",
   "execution_count": 51,
   "id": "5f6c313d-f864-444b-bb01-f3f14ef37305",
   "metadata": {},
   "outputs": [
    {
     "data": {
      "text/plain": [
       "['potato', 'potato', 1, 2, 3, ' True']"
      ]
     },
     "execution_count": 51,
     "metadata": {},
     "output_type": "execute_result"
    }
   ],
   "source": [
    "Grocery_list"
   ]
  },
  {
   "cell_type": "code",
   "execution_count": null,
   "id": "eebd8746-f87d-4552-84e8-3b2503601505",
   "metadata": {},
   "outputs": [],
   "source": [
    "#deep copy>> will not change the value in another list"
   ]
  },
  {
   "cell_type": "code",
   "execution_count": 53,
   "id": "151ca873-4dff-439a-aab9-cc5b9c775f16",
   "metadata": {},
   "outputs": [
    {
     "data": {
      "text/plain": [
       "['potato', 'potato', 1, 2, 3, ' True']"
      ]
     },
     "execution_count": 53,
     "metadata": {},
     "output_type": "execute_result"
    }
   ],
   "source": [
    "Grocery_list"
   ]
  },
  {
   "cell_type": "code",
   "execution_count": 55,
   "id": "f62ff1ce-f7ad-4794-a67f-9497ab2d5da0",
   "metadata": {},
   "outputs": [],
   "source": [
    "b=Grocery_list.copy()"
   ]
  },
  {
   "cell_type": "code",
   "execution_count": 56,
   "id": "65c9d88e-62cb-44e6-b927-3642e1db0ccd",
   "metadata": {},
   "outputs": [],
   "source": [
    "b[0]=\"milk\""
   ]
  },
  {
   "cell_type": "code",
   "execution_count": 57,
   "id": "c295e129-03ab-4187-b7c0-c5be88870323",
   "metadata": {},
   "outputs": [
    {
     "data": {
      "text/plain": [
       "['milk', 'potato', 1, 2, 3, ' True']"
      ]
     },
     "execution_count": 57,
     "metadata": {},
     "output_type": "execute_result"
    }
   ],
   "source": [
    "b"
   ]
  },
  {
   "cell_type": "code",
   "execution_count": 58,
   "id": "b9b84cb0-f663-4514-a252-7e8febf263fa",
   "metadata": {},
   "outputs": [
    {
     "data": {
      "text/plain": [
       "['potato', 'potato', 1, 2, 3, ' True']"
      ]
     },
     "execution_count": 58,
     "metadata": {},
     "output_type": "execute_result"
    }
   ],
   "source": [
    "Grocery_list"
   ]
  },
  {
   "cell_type": "markdown",
   "id": "aa61a28f-123b-4adb-97ce-fe7d9095b213",
   "metadata": {},
   "source": [
    "python lists are powerfull and flexible, supporting  various operations and use cases They are essential for handling ordered collection of items and are one of the most ocmmonly used data structures in python"
   ]
  },
  {
   "cell_type": "markdown",
   "id": "cf7cfa90-ddc3-47db-b14d-8fc43034863d",
   "metadata": {},
   "source": [
    "3Q)Describe how to access, modify and delete elements in a list with examples? "
   ]
  },
  {
   "cell_type": "markdown",
   "id": "852502dd-4b61-4842-88bb-d0edb89a0cbc",
   "metadata": {},
   "source": [
    "in python lists are versatile data structures that allow you to store and manipulate a sequence of items. Here's how you can access modify, and delete elements in a list with examples:"
   ]
  },
  {
   "cell_type": "markdown",
   "id": "f4bdc127-86f4-4bb3-926e-aee89bc7cc64",
   "metadata": {},
   "source": [
    "1.Accessing Elements\n",
    "you can access elements in a list using indexing. Python uses zero based indexing. which means the first element has  an index of \n",
    "single element :use the  index to access an element\n",
    "slice of elements: use a range of indices to access a subset of th"
   ]
  },
  {
   "cell_type": "code",
   "execution_count": 3,
   "id": "f10c53ab-97a0-4b7c-9c7f-1a10890194c0",
   "metadata": {},
   "outputs": [],
   "source": [
    "Fruits=[\"apple\", \"banana\",\"cherry\", \"data\"]"
   ]
  },
  {
   "cell_type": "code",
   "execution_count": 4,
   "id": "d882574b-084b-4260-98eb-49d069dc1b98",
   "metadata": {},
   "outputs": [
    {
     "data": {
      "text/plain": [
       "'cherry'"
      ]
     },
     "execution_count": 4,
     "metadata": {},
     "output_type": "execute_result"
    }
   ],
   "source": [
    "#access the first element\n",
    "Fruits[2]\n"
   ]
  },
  {
   "cell_type": "markdown",
   "id": "be01bec8-e1cb-4897-abd1-9b528698ef83",
   "metadata": {},
   "source": [
    "2. Modifying elements in a lis:you can modify elements in a list by directly assigning a new value to a specific index\n"
   ]
  },
  {
   "cell_type": "code",
   "execution_count": 5,
   "id": "a98c7551-ea01-4d2c-b032-2344b880c157",
   "metadata": {},
   "outputs": [],
   "source": [
    "#modify the second element\n",
    "Fruits[1]=\"blueberry\""
   ]
  },
  {
   "cell_type": "code",
   "execution_count": 6,
   "id": "b965078f-b6b4-47df-95d6-3c98b622511b",
   "metadata": {},
   "outputs": [
    {
     "data": {
      "text/plain": [
       "['apple', 'blueberry', 'cherry', 'data']"
      ]
     },
     "execution_count": 6,
     "metadata": {},
     "output_type": "execute_result"
    }
   ],
   "source": [
    "Fruits"
   ]
  },
  {
   "cell_type": "markdown",
   "id": "f0e7f763-6538-4cd6-9328-06c733516869",
   "metadata": {},
   "source": [
    "3.Delete elements in a list: there are several ways to delete elements of a list:\n",
    "    Using del: Remove an element by value\n",
    "    using remove(): Remove an element by value\n",
    "    using pop(): remove and return an element by index (default is the last element)\n"
   ]
  },
  {
   "cell_type": "code",
   "execution_count": 7,
   "id": "581d8a6b-2cd6-4f8b-a54d-d459c98460d1",
   "metadata": {},
   "outputs": [],
   "source": [
    "del Fruits[0]"
   ]
  },
  {
   "cell_type": "code",
   "execution_count": 8,
   "id": "105967b3-23a5-46dd-922a-d6eb980dd386",
   "metadata": {},
   "outputs": [
    {
     "data": {
      "text/plain": [
       "['blueberry', 'cherry', 'data']"
      ]
     },
     "execution_count": 8,
     "metadata": {},
     "output_type": "execute_result"
    }
   ],
   "source": [
    "Fruits"
   ]
  },
  {
   "cell_type": "code",
   "execution_count": 9,
   "id": "244043ca-19dc-4c3e-972d-fd95a5a0d4c0",
   "metadata": {},
   "outputs": [],
   "source": [
    "Fruits.remove(\"cherry\")"
   ]
  },
  {
   "cell_type": "code",
   "execution_count": 10,
   "id": "b557c1dc-38ce-406a-9242-845d22ba9fa1",
   "metadata": {},
   "outputs": [
    {
     "data": {
      "text/plain": [
       "['blueberry', 'data']"
      ]
     },
     "execution_count": 10,
     "metadata": {},
     "output_type": "execute_result"
    }
   ],
   "source": [
    "Fruits"
   ]
  },
  {
   "cell_type": "code",
   "execution_count": 11,
   "id": "b566bed5-ea64-4cfb-9f6f-86b1626b86a4",
   "metadata": {},
   "outputs": [
    {
     "data": {
      "text/plain": [
       "'data'"
      ]
     },
     "execution_count": 11,
     "metadata": {},
     "output_type": "execute_result"
    }
   ],
   "source": [
    "Fruits.pop()#removes last element"
   ]
  },
  {
   "cell_type": "code",
   "execution_count": 12,
   "id": "3ff18a6b-cf28-481b-81b5-9572b58fbcdd",
   "metadata": {},
   "outputs": [
    {
     "data": {
      "text/plain": [
       "['blueberry']"
      ]
     },
     "execution_count": 12,
     "metadata": {},
     "output_type": "execute_result"
    }
   ],
   "source": [
    "Fruits"
   ]
  },
  {
   "cell_type": "markdown",
   "id": "532b6d0d-1add-436d-bf98-e11a00f71764",
   "metadata": {},
   "source": [
    "Summary:\n",
    "    Accessing: use list[index]\n",
    "    modifying: use list[index]=new value\n",
    "    Deleting: use del list[index]\n",
    "               list.remove(value), or \n",
    "                list.pop(index)"
   ]
  },
  {
   "cell_type": "markdown",
   "id": "8a9be047-f6e7-4567-9fa0-e4bef510c3ed",
   "metadata": {},
   "source": [
    "these methods allow you to work with lists efficiently, whether you're retrieving, changing, or removing elements"
   ]
  },
  {
   "cell_type": "code",
   "execution_count": null,
   "id": "ae040382-80f6-4f87-b49f-13055459f0d0",
   "metadata": {},
   "outputs": [],
   "source": [
    "4Q)Compare and contrasts tuple and lists with examples??"
   ]
  },
  {
   "cell_type": "markdown",
   "id": "d4c1cb20-5f8a-4336-a415-d73c132bb01e",
   "metadata": {},
   "source": [
    "Tuples and lists are both data structures in python that allow you to strore and manipulate a collection of items. However, they have some key differences in terms of mutability, syntax, and usage. Heres a comparision"
   ]
  },
  {
   "cell_type": "markdown",
   "id": "39b03b9b-a0c5-4d09-b5fa-425bf8f9bf29",
   "metadata": {},
   "source": [
    "1. Mutability:\n",
    "    Lists are mutable, means you can modify them after creation. You can add modify them after creation. you can add, remove or change items in a list,  defied using square brackets[]\n",
    "    Tuples are immutable, means once they ae created, their contents cannot be changed.defined using patentheses()\n",
    "    "
   ]
  },
  {
   "cell_type": "code",
   "execution_count": 2,
   "id": "98b48077-8841-4910-a05c-204d87357832",
   "metadata": {},
   "outputs": [
    {
     "data": {
      "text/plain": [
       "list"
      ]
     },
     "execution_count": 2,
     "metadata": {},
     "output_type": "execute_result"
    }
   ],
   "source": [
    "my_list=[1,2,3,4]\n",
    "type(my_list)"
   ]
  },
  {
   "cell_type": "code",
   "execution_count": 3,
   "id": "6790ec6c-4d65-4292-930f-460471c293d9",
   "metadata": {},
   "outputs": [
    {
     "data": {
      "text/plain": [
       "tuple"
      ]
     },
     "execution_count": 3,
     "metadata": {},
     "output_type": "execute_result"
    }
   ],
   "source": [
    "my_list=(1,2,3,4)\n",
    "type(my_list)"
   ]
  },
  {
   "cell_type": "markdown",
   "id": "21b7dcac-74fe-4d76-a11d-594572f4e7b9",
   "metadata": {},
   "source": [
    "usage: use lists when you need a collection of items that can change overtime, such as a collection of user inputs or items that will be pdated or modified.\n",
    "use tuples when you need a collection of items that should not change, such as a record that you don't want to accidentally modify. Tuples can also be used as keys in dictionaries because of their immutability"
   ]
  },
  {
   "cell_type": "markdown",
   "id": "3e8e0545-98d3-4475-8f67-c4036ea02f8f",
   "metadata": {},
   "source": [
    "methods:\n",
    "lists: list have several methods for modifying the list, such as.append(), remove(), pop(), etc\n",
    "Tuple: tuples have fewer methods since they cannot be changed after creation. They only support nethods like.count()adn index()\n",
    "\n"
   ]
  },
  {
   "cell_type": "markdown",
   "id": "8a286a75-0164-4784-8daf-dcd08f37e3d8",
   "metadata": {},
   "source": [
    "Performance:\n",
    "    Lists:slightly slower than tuples due to their mutable nature\n",
    "    Tuple: slightly faster and more memory efficient"
   ]
  },
  {
   "cell_type": "markdown",
   "id": "e4cc9d4e-ab6f-4fe6-a564-a79eb5fcc304",
   "metadata": {},
   "source": [
    "Summary: \n",
    "lists are versatile and flexible due to their mutability, making them suitable for dynamic data where you expect changes\n",
    "Tuples are ideal for fixed collection where data integrity is important, ensuring that once a tuple is created it remains constant\n",
    "Both have their own use cases depending on the scenario at hand"
   ]
  },
  {
   "cell_type": "markdown",
   "id": "4698e8a3-4dae-42fb-a7ea-becb7e72a1d8",
   "metadata": {},
   "source": [
    "5Q).Describe the key features of sets and provide examples of their use?"
   ]
  },
  {
   "cell_type": "markdown",
   "id": "110afb4b-16f4-4eca-b989-e009b0215848",
   "metadata": {},
   "source": [
    "Sets in python are a collection data type that is unordered, mutable and contains unique elements. sets are particularly  useful when you need to ensure that a collection has no duplicate elements and when you want to perorm common set operations like unions, intersections and diff"
   ]
  },
  {
   "cell_type": "markdown",
   "id": "8b90e9f7-af7e-46dd-81aa-c93c95b02927",
   "metadata": {},
   "source": [
    "1. sets donot maintain any particular order of elements. The order of elements in a set is arbitrary and canchange when elements are added or removed\n",
    "2. No duplicate elements: sets automatically remove duplicates from the collection. If you add an element that already exists in the set, it will not be added again"
   ]
  },
  {
   "cell_type": "code",
   "execution_count": 11,
   "id": "e050adc7-ab22-4280-a83e-ffbc69e3c36d",
   "metadata": {},
   "outputs": [
    {
     "data": {
      "text/plain": [
       "{1, 2, 3, 'Banana', 'apple', 'orange', 'pineapple'}"
      ]
     },
     "execution_count": 11,
     "metadata": {},
     "output_type": "execute_result"
    }
   ],
   "source": [
    "fruit={\"apple\", \"Banana\", \"pineapple\", \"orange\", \"orange\", 1,2, 2, 3} \n",
    "fruit"
   ]
  },
  {
   "cell_type": "markdown",
   "id": "9db05a09-7e8b-4e89-8836-d05082619984",
   "metadata": {},
   "source": [
    "3. Mutable: sets are mutable, meaning you can add or remove elements after the sets has been created"
   ]
  },
  {
   "cell_type": "code",
   "execution_count": 23,
   "id": "ff790e1a-6301-4fe4-86fd-00d4f8c722e1",
   "metadata": {},
   "outputs": [],
   "source": [
    "fruit={\"apple\", \"Banana\", \"pineapple\", \"orange\", \"orange\", 1,2, 2, 3}\n",
    "fruit.add(5)"
   ]
  },
  {
   "cell_type": "code",
   "execution_count": 24,
   "id": "3075a121-d283-42ff-aeee-86661614b2c5",
   "metadata": {},
   "outputs": [
    {
     "data": {
      "text/plain": [
       "{1, 2, 3, 5, 'Banana', 'apple', 'orange', 'pineapple'}"
      ]
     },
     "execution_count": 24,
     "metadata": {},
     "output_type": "execute_result"
    }
   ],
   "source": [
    "fruit"
   ]
  },
  {
   "cell_type": "code",
   "execution_count": 27,
   "id": "ddd825b3-edb2-4e36-a68b-bf52e38d6e0a",
   "metadata": {},
   "outputs": [
    {
     "data": {
      "text/plain": [
       "{1, 2, 3, 5, 'apple', 'orange', 'pineapple'}"
      ]
     },
     "execution_count": 27,
     "metadata": {},
     "output_type": "execute_result"
    }
   ],
   "source": [
    "fruit.remove(\"Banana\")\n",
    "fruit"
   ]
  },
  {
   "cell_type": "markdown",
   "id": "c83fa922-10d4-4f5c-aa99-5bd5ba26e7bd",
   "metadata": {},
   "source": [
    "4. Immutable Elements: Although set itself is mutable, the elements inside the set must be immutable. this means you can have numbers, strings, and tuples as set elements, but not lists or other sets"
   ]
  },
  {
   "cell_type": "code",
   "execution_count": null,
   "id": "387cf66f-cd6b-4206-b162-f62be489865a",
   "metadata": {},
   "outputs": [],
   "source": [
    "5.python set support standard set operations  like union, intersection, difference, and symmetric difference"
   ]
  },
  {
   "cell_type": "code",
   "execution_count": 29,
   "id": "c1d8aaf8-88ae-4099-8d45-eb2490aa49b0",
   "metadata": {},
   "outputs": [
    {
     "data": {
      "text/plain": [
       "{3, 4}"
      ]
     },
     "execution_count": 29,
     "metadata": {},
     "output_type": "execute_result"
    }
   ],
   "source": [
    "set1={1,2,3,4}\n",
    "set2={3,4,5,6}\n",
    "set1&set2"
   ]
  },
  {
   "cell_type": "code",
   "execution_count": 30,
   "id": "18897160-c5e6-49a5-afff-cca76f90ab1e",
   "metadata": {},
   "outputs": [
    {
     "data": {
      "text/plain": [
       "{1, 2}"
      ]
     },
     "execution_count": 30,
     "metadata": {},
     "output_type": "execute_result"
    }
   ],
   "source": [
    "set1-set2"
   ]
  },
  {
   "cell_type": "code",
   "execution_count": 31,
   "id": "d528b704-d971-4b2a-be90-10ba9212eb29",
   "metadata": {},
   "outputs": [
    {
     "data": {
      "text/plain": [
       "{1, 2, 3, 4, 5, 6}"
      ]
     },
     "execution_count": 31,
     "metadata": {},
     "output_type": "execute_result"
    }
   ],
   "source": [
    "set1|set2"
   ]
  },
  {
   "cell_type": "code",
   "execution_count": 34,
   "id": "f8bb0f92-55c0-4783-bad2-9ab20d2de499",
   "metadata": {},
   "outputs": [
    {
     "name": "stdout",
     "output_type": "stream",
     "text": [
      "True\n"
     ]
    }
   ],
   "source": [
    "# checking membership:\n",
    "print(1 in set1)"
   ]
  },
  {
   "cell_type": "code",
   "execution_count": 35,
   "id": "b4f4dc43-1434-4720-b8b5-ac84ff5a8309",
   "metadata": {},
   "outputs": [
    {
     "name": "stdout",
     "output_type": "stream",
     "text": [
      "False\n"
     ]
    }
   ],
   "source": [
    "print(7 in set2)"
   ]
  },
  {
   "cell_type": "code",
   "execution_count": 36,
   "id": "8c33ea46-1a01-40ae-b27c-578d26b67919",
   "metadata": {},
   "outputs": [
    {
     "name": "stdout",
     "output_type": "stream",
     "text": [
      "1\n",
      "2\n",
      "3\n",
      "5\n",
      "pineapple\n",
      "orange\n",
      "apple\n"
     ]
    }
   ],
   "source": [
    "#iteraion over a set\n",
    "for fruits in fruit:\n",
    "    print(fruits)"
   ]
  },
  {
   "cell_type": "markdown",
   "id": "956b3f6a-cda5-43cb-beed-60694743b555",
   "metadata": {},
   "source": [
    "summary: sets are excellent choice when you need to manage a collection of unique items, such as filtering out duplicates from a list or performing mathematical set operations like union and intersection\n",
    "Key operations indclude adding/removing elements, checking membership, and performing set operations like union, intersection, and difference"
   ]
  },
  {
   "cell_type": "code",
   "execution_count": null,
   "id": "9922b48c-6a74-4019-9341-904cdb9c8b4e",
   "metadata": {},
   "outputs": [],
   "source": [
    "6Q) Discuss the use cases of tuples and sets in python programming??"
   ]
  },
  {
   "cell_type": "code",
   "execution_count": null,
   "id": "b74039ce-cfcf-41c5-a402-9356b04aad6a",
   "metadata": {},
   "outputs": [],
   "source": [
    "Tuples and sets in Python serve different purposes due to their distinct characteristics. Here's a breakdown of their use cases\n",
    "Use cases of Tuples:\n",
    "1. Immutable grouping of data: for example fixed record of a person, account nmber, aadhaar number\n",
    "2. Return multiple values from a function:"
   ]
  },
  {
   "cell_type": "code",
   "execution_count": 41,
   "id": "f9c9eae5-4291-40ab-bf9a-8880abe87fdc",
   "metadata": {},
   "outputs": [],
   "source": [
    "t=(\"pwskills\",\"ajay\", 2.3,2, \"True\",2)"
   ]
  },
  {
   "cell_type": "code",
   "execution_count": 42,
   "id": "20c5f881-5d65-46f3-84d1-bb795bb730fb",
   "metadata": {},
   "outputs": [
    {
     "data": {
      "text/plain": [
       "('pwskills', 'ajay', 2.3, 2, 'True', 2)"
      ]
     },
     "execution_count": 42,
     "metadata": {},
     "output_type": "execute_result"
    }
   ],
   "source": [
    "t"
   ]
  },
  {
   "cell_type": "code",
   "execution_count": 45,
   "id": "3ccabadf-b66d-4334-a4f5-48476303f160",
   "metadata": {},
   "outputs": [
    {
     "data": {
      "text/plain": [
       "'pwskills'"
      ]
     },
     "execution_count": 45,
     "metadata": {},
     "output_type": "execute_result"
    }
   ],
   "source": [
    "t[0]"
   ]
  },
  {
   "cell_type": "code",
   "execution_count": 46,
   "id": "ea5b8cd5-ffc4-47d7-b9d6-736854cc01bd",
   "metadata": {},
   "outputs": [
    {
     "ename": "TypeError",
     "evalue": "'tuple' object does not support item assignment",
     "output_type": "error",
     "traceback": [
      "\u001b[0;31m---------------------------------------------------------------------------\u001b[0m",
      "\u001b[0;31mTypeError\u001b[0m                                 Traceback (most recent call last)",
      "Cell \u001b[0;32mIn[46], line 1\u001b[0m\n\u001b[0;32m----> 1\u001b[0m \u001b[43mt\u001b[49m\u001b[43m[\u001b[49m\u001b[38;5;241;43m1\u001b[39;49m\u001b[43m]\u001b[49m\u001b[38;5;241m=\u001b[39m\u001b[38;5;124m\"\u001b[39m\u001b[38;5;124mroopa\u001b[39m\u001b[38;5;124m\"\u001b[39m\n",
      "\u001b[0;31mTypeError\u001b[0m: 'tuple' object does not support item assignment"
     ]
    }
   ],
   "source": [
    "t[1]=\"roopa\" # since tuples are immutable"
   ]
  },
  {
   "cell_type": "code",
   "execution_count": 47,
   "id": "dd2111f5-951e-4497-96d2-aa8401ca4271",
   "metadata": {},
   "outputs": [
    {
     "data": {
      "text/plain": [
       "2"
      ]
     },
     "execution_count": 47,
     "metadata": {},
     "output_type": "execute_result"
    }
   ],
   "source": [
    "t.count(2)"
   ]
  },
  {
   "cell_type": "code",
   "execution_count": 48,
   "id": "9f6a9e47-9135-460f-a1b7-0e3faaa15f6e",
   "metadata": {},
   "outputs": [
    {
     "data": {
      "text/plain": [
       "0"
      ]
     },
     "execution_count": 48,
     "metadata": {},
     "output_type": "execute_result"
    }
   ],
   "source": [
    "t.index(\"pwskills\")"
   ]
  },
  {
   "cell_type": "code",
   "execution_count": 50,
   "id": "2b07067a-9f12-4c0c-9af1-95a7541ca131",
   "metadata": {},
   "outputs": [
    {
     "name": "stdout",
     "output_type": "stream",
     "text": [
      "('pwskills', 'ajay', 2.3, 2, 'True', 2, 'pwskills', 'ajay', 2.3, 2, 'True', 2)\n"
     ]
    }
   ],
   "source": [
    "print(t*2)"
   ]
  },
  {
   "cell_type": "code",
   "execution_count": 51,
   "id": "f0d62492-1c60-4861-b5ed-5a20f37082cb",
   "metadata": {},
   "outputs": [
    {
     "data": {
      "text/plain": [
       "('pwskills', 'ajay', 2.3, 2)"
      ]
     },
     "execution_count": 51,
     "metadata": {},
     "output_type": "execute_result"
    }
   ],
   "source": [
    "t[0:4]"
   ]
  },
  {
   "cell_type": "code",
   "execution_count": 52,
   "id": "2d3dc560-157d-452c-a6ea-1d5f4d3547ae",
   "metadata": {},
   "outputs": [
    {
     "data": {
      "text/plain": [
       "(2, 'True', 2, 2.3, 'ajay', 'pwskills')"
      ]
     },
     "execution_count": 52,
     "metadata": {},
     "output_type": "execute_result"
    }
   ],
   "source": [
    "t[::-1]"
   ]
  },
  {
   "cell_type": "code",
   "execution_count": 53,
   "id": "9f7f5423-f7fd-49f9-9eed-1d81542406ab",
   "metadata": {},
   "outputs": [
    {
     "name": "stdout",
     "output_type": "stream",
     "text": [
      "pwskills <class 'str'>\n",
      "ajay <class 'str'>\n",
      "2.3 <class 'float'>\n",
      "2 <class 'int'>\n",
      "True <class 'str'>\n",
      "2 <class 'int'>\n"
     ]
    }
   ],
   "source": [
    "for i in t:\n",
    "    print(i,type(i))"
   ]
  },
  {
   "cell_type": "code",
   "execution_count": 54,
   "id": "531c0947-ec73-47ad-aa59-11f955ec2e9f",
   "metadata": {},
   "outputs": [
    {
     "data": {
      "text/plain": [
       "6"
      ]
     },
     "execution_count": 54,
     "metadata": {},
     "output_type": "execute_result"
    }
   ],
   "source": [
    "len(t)"
   ]
  },
  {
   "cell_type": "markdown",
   "id": "6cbc2e7f-ba6d-448c-ae54-6159f1b7f770",
   "metadata": {},
   "source": [
    "3.DAta Integrity: tuples are useful when data integrity is important. If you want to ensure that a sequence of values remains constant throughout the program, using a tuple is the best choice\n",
    "4.Performance optimization"
   ]
  },
  {
   "cell_type": "markdown",
   "id": "3bae8ca3-3341-4c09-9c47-6dd91a1a6628",
   "metadata": {},
   "source": [
    "use cases of sets\n",
    "1. unique collection of elements: Sets are ideal when you need to store a collecton of items where duplicates are not allowed. This is useful in situations like removing duplicates from a list or tracking unique user IDS"
   ]
  },
  {
   "cell_type": "code",
   "execution_count": 67,
   "id": "cd437e29-78b1-4628-ae23-823311069ec2",
   "metadata": {},
   "outputs": [],
   "source": [
    "s={1,2,3,3,2,4,5}"
   ]
  },
  {
   "cell_type": "code",
   "execution_count": 68,
   "id": "34bf541f-d29f-4e9d-8d40-26cdfe87021c",
   "metadata": {},
   "outputs": [
    {
     "name": "stdout",
     "output_type": "stream",
     "text": [
      "{1, 2, 3, 4, 5}\n"
     ]
    }
   ],
   "source": [
    "print(s)"
   ]
  },
  {
   "cell_type": "markdown",
   "id": "8e4ae9d4-92d2-49b3-a123-a4a685c58db1",
   "metadata": {},
   "source": [
    "2. Membership testing: efficient way to test whether an item exists in a collection. This is especially useful when checking for the existence of an item in large datasets"
   ]
  },
  {
   "cell_type": "code",
   "execution_count": 74,
   "id": "929b69ef-f2cb-4440-9763-53253b3e5c9f",
   "metadata": {},
   "outputs": [
    {
     "name": "stdout",
     "output_type": "stream",
     "text": [
      "access denied\n"
     ]
    }
   ],
   "source": [
    "valid_ids={1001,1004, 1006}\n",
    "user_id=1002\n",
    "if user_id in valid_ids:\n",
    "    print(\"access granted\")\n",
    "else:\n",
    "    print(\"access denied\")"
   ]
  },
  {
   "cell_type": "markdown",
   "id": "f5023f9c-6d7f-422a-aacd-958ada152406",
   "metadata": {},
   "source": [
    "3.set comparision: sets are useful when comparing collection of items to determine subsets, supersets, or equality between collection"
   ]
  },
  {
   "cell_type": "code",
   "execution_count": 82,
   "id": "40b25a1c-73bd-47d4-a678-08d48ad4bc19",
   "metadata": {},
   "outputs": [
    {
     "name": "stdout",
     "output_type": "stream",
     "text": [
      "{4, 5}\n"
     ]
    }
   ],
   "source": [
    "set1={1,2,3,4,5}\n",
    "set2={4,5,6,7,8}\n",
    "S=set1&set2\n",
    "print(S)"
   ]
  },
  {
   "cell_type": "markdown",
   "id": "9b1dea84-0bb5-4b40-95d8-3e8d25e139c8",
   "metadata": {},
   "source": [
    "Tuples are best used when you need an immutable,ordered sequence  of items. They are ideal for representing fixed collections of related items, returning multiple values from functions, or using as dictionary keys.\n",
    "sets are ideal when you need a collection of unique items, want to perform set operations, or need efficient membership testing. They are particularly useful in scenarios where ofere doest not matter and you want to ensure data uniqueness"
   ]
  },
  {
   "cell_type": "code",
   "execution_count": null,
   "id": "e2b51679-6a0d-4792-87a8-94d027727845",
   "metadata": {},
   "outputs": [],
   "source": [
    "7Q) Describe how to add, modify, and delete items in a dictionary with examples?\n"
   ]
  },
  {
   "cell_type": "markdown",
   "id": "23acee64-b7d0-41d2-8f5f-187dafb54e34",
   "metadata": {},
   "source": [
    "To add or modify items in a dictionary in python, you can simply assign a value to a specific key in the dictionary. if the key  already exists, its value will be updated, if the key is new it will be added to the dictionary\n"
   ]
  },
  {
   "cell_type": "markdown",
   "id": "e9a91587-b893-45d6-be23-943d35f2f3fb",
   "metadata": {},
   "source": [
    "to delete item from dic you can use the del keyword followed by the key you want to delete\n",
    "Here is an example to demonstrate adding, modifying, and deleting items in a dictionary"
   ]
  },
  {
   "cell_type": "code",
   "execution_count": 86,
   "id": "666da6bb-d2dd-4196-b36b-93bf1604af30",
   "metadata": {},
   "outputs": [],
   "source": [
    "my_dict={\"name\":\"Roopa\",\"age\":30, \"city\":\"AP\"}"
   ]
  },
  {
   "cell_type": "code",
   "execution_count": 87,
   "id": "63d42400-cb71-44ad-807d-bb36636f9ba7",
   "metadata": {},
   "outputs": [
    {
     "name": "stdout",
     "output_type": "stream",
     "text": [
      "{'name': 'Roopa', 'age': 30, 'city': 'AP'}\n"
     ]
    }
   ],
   "source": [
    "print(my_dict)"
   ]
  },
  {
   "cell_type": "code",
   "execution_count": 88,
   "id": "2dbfa985-dbe7-4d61-8222-1f96469e11af",
   "metadata": {},
   "outputs": [],
   "source": [
    "my_dict[\"occupation\"]=\"Engineer\""
   ]
  },
  {
   "cell_type": "code",
   "execution_count": 89,
   "id": "e6facac2-5670-4056-b50f-a1a9e92b8236",
   "metadata": {},
   "outputs": [
    {
     "data": {
      "text/plain": [
       "{'name': 'Roopa', 'age': 30, 'city': 'AP', 'occupation': 'Engineer'}"
      ]
     },
     "execution_count": 89,
     "metadata": {},
     "output_type": "execute_result"
    }
   ],
   "source": [
    "my_dict"
   ]
  },
  {
   "cell_type": "code",
   "execution_count": 90,
   "id": "cdbea37d-4f17-45e3-9400-90369aa4ee08",
   "metadata": {},
   "outputs": [],
   "source": [
    "del my_dict[\"city\"]"
   ]
  },
  {
   "cell_type": "code",
   "execution_count": 91,
   "id": "ebe5c565-a0d5-4f33-8bc6-66b9865fe661",
   "metadata": {},
   "outputs": [
    {
     "data": {
      "text/plain": [
       "{'name': 'Roopa', 'age': 30, 'occupation': 'Engineer'}"
      ]
     },
     "execution_count": 91,
     "metadata": {},
     "output_type": "execute_result"
    }
   ],
   "source": [
    "my_dict"
   ]
  },
  {
   "cell_type": "code",
   "execution_count": null,
   "id": "7f0e51c0-2061-491a-bc65-3fc67496bece",
   "metadata": {},
   "outputs": [],
   "source": [
    "8Q)Discuss the importance of dictionary keys being immutable and provide examples?\n"
   ]
  },
  {
   "cell_type": "markdown",
   "id": "ae0dd89b-7b09-40f8-be86-21f6b3a726cc",
   "metadata": {},
   "source": [
    "In python, dictionary keys must be immutable, which means that the data type of the keys cannot be changed after they are created. This immutability is crucial for maintaining the integrity and performance of dictionaries. Lets explore why this is important and provide examples"
   ]
  },
  {
   "cell_type": "markdown",
   "id": "54972356-f267-4b21-aef9-fb03dc971a57",
   "metadata": {},
   "source": [
    "Importance of immutable dictionary keys\n",
    "1. Hashability:\n",
    "    Dictionaries in python are implemented using hash tables. For a key to be strored in a dictionary, it must be hashable.Hashability means that the object has a hash value that remains consitent during its lifetime. Immutable types like strings, numbers, and tuples(containing only immutable elements) have a stable hash value.\n",
    "    Muable objects like lists or dictionaries, can change their contents, which would result in a different hash value, making it impossible to retrieve the object form the dictionary reliably\n",
    "    "
   ]
  },
  {
   "cell_type": "markdown",
   "id": "c69096e6-95a0-45eb-87fb-ff75014c2dd3",
   "metadata": {},
   "source": [
    "2. performance: Hash table allow for fast liikups, insertions, and deletions. This efficiency relies on the key's hash value being stable. If keys were mutable their hash values could change, leading to unpredictable behavior and a significant performance hit, as the hash table would need constant rebalancing or rehasing"
   ]
  },
  {
   "cell_type": "markdown",
   "id": "5a3be5b5-55df-40e3-8cf8-4f1626b54d4c",
   "metadata": {},
   "source": [
    "3.DAta integrity: Immutability ensures that keys donot change after being used in a dictionary, which gurantees data integrity. if mutable objects were allowed as keys. modifying a keys value wourld lead to inconsistent in the dictionary, making it impossible to access the associated value correctly\n"
   ]
  },
  {
   "cell_type": "code",
   "execution_count": 3,
   "id": "5d2393bf-3dd7-4ae5-9f11-fe984e3fd712",
   "metadata": {},
   "outputs": [],
   "source": [
    "# Immurable keys\n",
    "#strings\n",
    "my_dict={\"name\":\"Alice\", \"age\": 30}"
   ]
  },
  {
   "cell_type": "code",
   "execution_count": 5,
   "id": "389d7412-79e7-4177-8330-ccf3b8606019",
   "metadata": {},
   "outputs": [
    {
     "data": {
      "text/plain": [
       "'Alice'"
      ]
     },
     "execution_count": 5,
     "metadata": {},
     "output_type": "execute_result"
    }
   ],
   "source": [
    "my_dict[\"name\"]"
   ]
  },
  {
   "cell_type": "code",
   "execution_count": 9,
   "id": "7937e340-64b2-48d4-9764-58acba76799f",
   "metadata": {},
   "outputs": [
    {
     "data": {
      "text/plain": [
       "'point A'"
      ]
     },
     "execution_count": 9,
     "metadata": {},
     "output_type": "execute_result"
    }
   ],
   "source": [
    "#Tuples\n",
    "my_dict={(1,2): \"point A\", (3,4): \"point B\"}\n",
    "my_dict[(1,2)]"
   ]
  },
  {
   "cell_type": "code",
   "execution_count": 11,
   "id": "dc5cd701-bd7c-4e7f-8e2a-c86635b2b7d4",
   "metadata": {},
   "outputs": [
    {
     "ename": "TypeError",
     "evalue": "unhashable type: 'list'",
     "output_type": "error",
     "traceback": [
      "\u001b[0;31m---------------------------------------------------------------------------\u001b[0m",
      "\u001b[0;31mTypeError\u001b[0m                                 Traceback (most recent call last)",
      "Cell \u001b[0;32mIn[11], line 2\u001b[0m\n\u001b[1;32m      1\u001b[0m \u001b[38;5;66;03m#mutable keys\u001b[39;00m\n\u001b[0;32m----> 2\u001b[0m my_dict\u001b[38;5;241m=\u001b[39m{[\u001b[38;5;241m1\u001b[39m,\u001b[38;5;241m2\u001b[39m]:\u001b[38;5;124m\"\u001b[39m\u001b[38;5;124mpoint A\u001b[39m\u001b[38;5;124m\"\u001b[39m,[\u001b[38;5;241m3\u001b[39m,\u001b[38;5;241m4\u001b[39m]: \u001b[38;5;124m\"\u001b[39m\u001b[38;5;124mpoint B\u001b[39m\u001b[38;5;124m\"\u001b[39m}\n",
      "\u001b[0;31mTypeError\u001b[0m: unhashable type: 'list'"
     ]
    }
   ],
   "source": [
    "#mutable keys\n",
    "my_dict={[1,2]:\"point A\",[3,4]: \"point B\"}"
   ]
  },
  {
   "cell_type": "markdown",
   "id": "7380128a-b131-4540-8387-1af825867fe3",
   "metadata": {},
   "source": [
    "Immutability of dictionary keys in python is fundamental to the lanuages design ensuring that dictionaries operate efficiently and reliably. Immutable keys provide stable hash values, which are crucial for the correct funcitonaing of hash tables. this design vhoice helps maintain data integrity and allows dictionary to be one of the most performant data structures for key_values storage in python"
   ]
  }
 ],
 "metadata": {
  "kernelspec": {
   "display_name": "Python 3 (ipykernel)",
   "language": "python",
   "name": "python3"
  },
  "language_info": {
   "codemirror_mode": {
    "name": "ipython",
    "version": 3
   },
   "file_extension": ".py",
   "mimetype": "text/x-python",
   "name": "python",
   "nbconvert_exporter": "python",
   "pygments_lexer": "ipython3",
   "version": "3.10.8"
  }
 },
 "nbformat": 4,
 "nbformat_minor": 5
}
